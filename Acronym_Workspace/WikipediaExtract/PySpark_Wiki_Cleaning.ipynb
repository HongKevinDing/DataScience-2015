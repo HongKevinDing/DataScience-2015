{
 "cells": [
  {
   "cell_type": "code",
   "execution_count": 201,
   "metadata": {
    "collapsed": false
   },
   "outputs": [],
   "source": [
    "import sys\n",
    "\n",
    "# ***** change path below as necessary *****\n",
    "sys.path.append(\"/Users/herman/Documents/CDIPS-DSW-2015/DataScience-2015_self/\")\n",
    "\n",
    "import acronym_extract\n",
    "import dewiki, re"
   ]
  },
  {
   "cell_type": "code",
   "execution_count": 2,
   "metadata": {
    "collapsed": false
   },
   "outputs": [],
   "source": [
    "import pyspark\n",
    "from pyspark.sql import SQLContext\n",
    "sqlCtx = SQLContext(sc)"
   ]
  },
  {
   "cell_type": "code",
   "execution_count": 3,
   "metadata": {
    "collapsed": true
   },
   "outputs": [],
   "source": [
    "from pyspark.sql import Row"
   ]
  },
  {
   "cell_type": "code",
   "execution_count": 4,
   "metadata": {
    "collapsed": false
   },
   "outputs": [],
   "source": [
    "wikiData = sqlCtx.read.parquet(\"./wiki_parquet\")"
   ]
  },
  {
   "cell_type": "code",
   "execution_count": 5,
   "metadata": {
    "collapsed": false
   },
   "outputs": [
    {
     "name": "stdout",
     "output_type": "stream",
     "text": [
      "root\n",
      " |-- id: integer (nullable = true)\n",
      " |-- title: binary (nullable = true)\n",
      " |-- modified: long (nullable = true)\n",
      " |-- text: binary (nullable = true)\n",
      " |-- username: binary (nullable = true)\n",
      "\n"
     ]
    }
   ],
   "source": [
    "wikiData.printSchema()"
   ]
  },
  {
   "cell_type": "code",
   "execution_count": 6,
   "metadata": {
    "collapsed": false
   },
   "outputs": [
    {
     "data": {
      "text/plain": [
       "39365"
      ]
     },
     "execution_count": 6,
     "metadata": {},
     "output_type": "execute_result"
    }
   ],
   "source": [
    "wikiData.count()"
   ]
  },
  {
   "cell_type": "code",
   "execution_count": 7,
   "metadata": {
    "collapsed": false
   },
   "outputs": [],
   "source": [
    "wikiData.registerTempTable(\"wikiData\")"
   ]
  },
  {
   "cell_type": "code",
   "execution_count": 8,
   "metadata": {
    "collapsed": false
   },
   "outputs": [],
   "source": [
    "resultUCB = sqlCtx.sql(\"SELECT * FROM wikiData WHERE title LIKE '%University of California, Berkeley%'\")"
   ]
  },
  {
   "cell_type": "code",
   "execution_count": 23,
   "metadata": {
    "collapsed": false
   },
   "outputs": [],
   "source": [
    "UCB_Text = resultUCB.map(lambda p: str(p.text)).collect()"
   ]
  },
  {
   "cell_type": "code",
   "execution_count": 10,
   "metadata": {
    "collapsed": false
   },
   "outputs": [],
   "source": [
    "UCB_Title = resultUCB.map(lambda p: str(p.title)).collect()"
   ]
  },
  {
   "cell_type": "code",
   "execution_count": 171,
   "metadata": {
    "collapsed": false
   },
   "outputs": [],
   "source": [
    "UCB = UCB_Text[10]"
   ]
  },
  {
   "cell_type": "code",
   "execution_count": 203,
   "metadata": {
    "collapsed": false
   },
   "outputs": [
    {
     "name": "stdout",
     "output_type": "stream",
     "text": [
      "['{{', '{{', '}}', '}}', '{{', '}}', '{{', '{{', '{{', '}}', '}}', '}}']\n",
      "[(0, 2), (10, 12), (16, 18), (26, 28), (36, 38), (39, 41), (45, 47), (51, 53), (57, 59), (63, 65), (65, 67), (67, 69)]\n"
     ]
    }
   ],
   "source": [
    "# GETTING INDICES FROM REGEX SEARCH (re.finditer())\n",
    "\n",
    "string = '{{asdfasdf{{asdf}}asdfasdf}}asdfasdf{{s}}asdf{{asdf{{asdf{{asdf}}}}}}'\n",
    "braces = re.findall('{{|}}', string)\n",
    "indices = [(m.start(0), m.end(0)) for m in re.finditer('{{|}}', string)]\n",
    "\n",
    "print(braces)\n",
    "print(indices)\n"
   ]
  },
  {
   "cell_type": "code",
   "execution_count": 197,
   "metadata": {
    "collapsed": false
   },
   "outputs": [],
   "source": [
    "def cleanWikiMarkup(text):\n",
    "    RE_BRACKETS = re.compile(r'{{(?:.(?!{{|}}).)*}}')#  {{}} and everything inside as long as there are no nested {{}}\n",
    "    RE = re.compile(r'''\\[{2}(File|Category):.+?\\]{2}|        #  [[File: ]]\n",
    "                                    [\\s\\w#()]+?\\||            #  \n",
    "                                    (\\[{2}|\\]{2})|            #  [[ or ]]\n",
    "                                    \\'{2,5}|                  #  two to five occurences of '\n",
    "                                    (<s>|<!--).+?(</s>|-->)|  #  comments\n",
    "                                    ={1,6}|                   #  one to six occurences of =\n",
    "                                    \\<ref.+?(\\/>|\\<\\/ref\\>)|  #  <ref /> and <ref></ref> tags\n",
    "                                    \\<.+?\\>                   #  any tags\n",
    "                                    ''',   \n",
    "                                    re.X)\n",
    "\n",
    "#    text = re.sub('\\{\\{[^\\}]+?(?=\\{\\{)|(?<=\\}\\})[^\\{]+?\\}\\}', ' ', text)\n",
    "#    double_braces = re.findall(r'{{[^}]+?{{.+?}}[^}]+?}}', text)\n",
    "#    print(double_braces)\n",
    "#    for db in double_braces:\n",
    "#        to_delete = re.match(r'^{{.+?({{.+?}}).+?}}$', text).group()\n",
    "#        db_new = re.sub(to_delete, '', db)\n",
    "#        text = re.sub(db, db_new, text)\n",
    "        \n",
    "#    text = re.sub('{{.+?}}', ' ', text)\n",
    "#    else:\n",
    "#        while re.search('[\\{\\}]', text) != None:    # recursively delete nested brackets from insidemost out\n",
    "#            text = re.sub(RE_BRACKETS, ' ', text)\n",
    "\n",
    "    text = re.sub(RE, ' ', text)\n",
    "    text = re.sub('\\s+', ' ', text)\n",
    "    text = re.sub('\\( ', '(', text)\n",
    "    text = re.sub(' \\)', ')', text)\n",
    "    text = re.sub('\\|', '| ', text) \n",
    "    return text\n"
   ]
  },
  {
   "cell_type": "code",
   "execution_count": 198,
   "metadata": {
    "collapsed": false
   },
   "outputs": [],
   "source": [
    "UCB_clean = cleanWikiMarkup(UCB)"
   ]
  },
  {
   "cell_type": "code",
   "execution_count": 199,
   "metadata": {
    "collapsed": false
   },
   "outputs": [
    {
     "data": {
      "text/plain": [
       "' Image:UCB-Reserved-For-NL. Nobel laureates on Berkeley\\'s faculty can take advantage of special exclusive parking spaces on the Berkeley campus. This is an alphabetical table of Nobel laureates associated with the University of California, Berkeley , including current and former faculty members and researchers as well as graduates. , 72 Nobel laureates have been associated with Berkeley.Berkeley currently has nine Nobel laureates on its faculty, out of the twenty-five full-time faculty members who have won the Prize. Sortable table {|  class \"wikitable sortable\" style \"background: white; padding: 0.5em;\"!Name!Year!Prize! -|  (1940\\xe2\\x80\\x93 |  |  |  Professor of Economics (1966\\xe2\\x80\\x931978, 1980\\xe2\\x80\\x93 - (1911\\xe2\\x80\\x93 |  |  |  Professor of Physics (1936\\xe2\\x80\\x93 - (1929\\xe2\\x80\\x93 |  |  |  Researcher (1963), Visiting Professor of Molecular Biology (1970\\xe2\\x80\\x93 -|  (1948\\xe2\\x80\\x93 |  |  |  Professor of Molecular Biology (1978\\xe2\\x80\\x93 -|  (1905\\xe2\\x80\\x93 |  |  |  - (1927\\xe2\\x80\\x93 |  |  |  Researcher (1953), - (1911\\xe2\\x80\\x93 |  |  |  Professor of Chemistry (1947\\xe2\\x80\\x93 - (1947\\xe2\\x80\\x93 |  |  |  - (1920\\xe2\\x80\\x93 |  |  |  Professor of Physics (1958\\xe2\\x80\\x93 - (1948\\xe2\\x80\\x93 |  |  |  PhD 1976, Berkeley Lab Director (2004\\xe2\\x80\\x93 - (1931\\xe2\\x80\\x93 |  |  |  - (1933\\xe2\\x80\\x93 |  |  |  - (1921\\xe2\\x80\\x93 |  |  |  Professor of Economics (1962\\xe2\\x80\\x93 - (1940\\xe2\\x80\\x93 |  |  |  Professor of Economics (1964\\xe2\\x80\\x93 - (1895\\xe2\\x80\\x93 |  |  |  - (1959\\xe2\\x80\\x93 |  |  |  - (1932\\xe2\\x80\\x93 |  |  |  - (1895\\xe2\\x80\\x93 |  |  |  BS 1920, PhD 1922, Professor of Chemistry (1922\\xe2\\x80\\x93 - (1926\\xe2\\x80\\x93 |  |  |  Professor of Physics (1957\\xe2\\x80\\x93 - (1932\\xe2\\x80\\x93 |  |  |  Professor of Physics (1960\\xe2\\x80\\x93 -|  (1961\\xe2\\x80\\x93 |  |  |  PhD 1987, -|  (1941\\xe2\\x80\\x93 |  |  |  - (1920\\xe2\\x80\\x93 |  |  |  Professor of Economics (1964\\xe2\\x80\\x93 - (1936\\xe2\\x80\\x93 |  |  |  - (1932\\xe2\\x80\\x93 |  |  |  Professor of Chemistry (1959\\xe2\\x80\\x93 - (1934\\xe2\\x80\\x93 |  |  |  PhD 1961, Professor of Psychology (1986\\xe2\\x80\\x93 - (1920\\xe2\\x80\\x93 |  |  |  - (1918\\xe2\\x80\\x93 |  |  |  - (1913\\xe2\\x80\\x93 |  |  |  BS 1934, - (1950\\xe2\\x80\\x93 |  |  |  - (1901\\xe2\\x80\\x93 |  |  |  Professor of Physics (1930\\xe2\\x80\\x931958), Radiation Lab director (1936\\xe2\\x80\\x93 - (1926\\xe2\\x80\\x93 |  |  |  Research Associate and Instructor (1950\\xe2\\x80\\x93 - (1936\\xe2\\x80\\x93 |  |  |  PhD 1965, Professor of Chemistry (1974\\xe2\\x80\\x93 - (1908\\xe2\\x80\\x93 |  |  |  BS 1931, PhD 1933, Lecturer (1933\\xe2\\x80\\x93 - (1945\\xe2\\x80\\x93 |  |  |  - (1937\\xe2\\x80\\x93 |  |  |  Professor of Economics (1963\\xe2\\x80\\x931979, 1990\\xe2\\x80\\x93 - (1907\\xe2\\x80\\x93 |  |  |  Professor of Chemistry (1946\\xe2\\x80\\x93 - (1911\\xe2\\x80\\x93 |  |  |  Professor of Slavic Languages and Literature (1961\\xe2\\x80\\x93 - (1943\\xe2\\x80\\x93 |  |  |  - (1944\\xe2\\x80\\x93 |  |  |  - (1920\\xe2\\x80\\x93 |  |  |  BA 1942, - (1891\\xe2\\x80\\x93 |  |  |  Professor of Chemistry (1949\\xe2\\x80\\x93 - (1959\\xe2\\x80\\x93 |  |  |  PhD 1986, Professor of Physics & - (1942\\xe2\\x80\\x93 |  |  |  Professor of Virology in Residence (1984\\xe2\\x80\\x93 - (1969\\xe2\\x80\\x93 |  |  |  Miller Fellow (1996\\xe2\\x80\\x93 - (1943\\xe2\\x80\\x93 |  |  |  - (1948\\xe2\\x80\\x93 |  |  |  Professor of Molecular and Cell Biology (1976- - (1921\\xe2\\x80\\x93 |  |  |  - (1918\\xe2\\x80\\x93 |  |  |  Research fellow (1939\\xe2\\x80\\x93 - (1912\\xe2\\x80\\x93 |  |  |  PhD 1937, Professor of Chemistry (1937\\xe2\\x80\\x931999), Chancellor (1958\\xe2\\x80\\x93 - (1905\\xe2\\x80\\x93 |  |  |  Radiation Lab 1938\\xe2\\x80\\x9346, Professor of Physics (1946\\xe2\\x80\\x93 - (1933\\xe2\\x80\\x93 |  |  |  Researcher (1964\\xe2\\x80\\x93 - (1916\\xe2\\x80\\x93 |  |  |  Research Director (1939\\xe2\\x80\\x93 -|  (1942\\xe2\\x80\\x93 |  |  |  Post-doctoral student (1963\\xe2\\x80\\x931964) | - (1931\\xe2\\x80\\x93 |  |  |  - (1945\\xe2\\x80\\x93 |  |  |  Professor of Physics (1994\\xe2\\x80\\x93 - (1904\\xe2\\x80\\x93 |  |  |  Professor of Chemistry (1948\\xe2\\x80\\x93 - (1921\\xe2\\x80\\x93 |  |  |  Researcher (1949\\xe2\\x80\\x93 - (1888\\xe2\\x80\\x93 |  |  |  Professor, - (1915\\xe2\\x80\\x93 |  |  |  PhD 1940, Instructor (1940\\xe2\\x80\\x93 - (1930\\xe2\\x80\\x93 |  |  |  Physicist, Lawrence Berkeley Laboratory (1961\\xe2\\x80\\x93 - (1915\\xe2\\x80\\x93 |  |  |  Professor of Physics (1967\\xe2\\x80\\x93 -|  (1952\\xe2\\x80\\x93 |  |  |  Professor of Chemistry (1982\\xe2\\x80\\x93 - (1893\\xe2\\x80\\x93 |  |  |  - (1918\\xe2\\x80\\x93 |  |  |  - (1933\\xe2\\x80\\x93 |  |  |  Researcher (1959\\xe2\\x80\\x93 - (1916\\xe2\\x80\\x93 |  |  |  Manhattan Project (1941\\xe2\\x80\\x93 - (1921\\xe2\\x80\\x93 |  |  |  Radiation Lab (1946\\xe2\\x80\\x93 -|  (1932\\xe2\\x80\\x93 |  |  |  Professor of Business, Economics & Law (1963\\xe2\\x80\\x9365 and 1988\\xe2\\x80\\x93 - (1944\\xe2\\x80\\x93 |  |  |  -|  (1938\\xe2\\x80\\x93 |  |  |  -|  (1946\\xe2\\x80\\x93 |  |  |  Researcher (1974\\xe2\\x80\\x93 } References See also * Nobel laureates by university affiliation '"
      ]
     },
     "execution_count": 199,
     "metadata": {},
     "output_type": "execute_result"
    }
   ],
   "source": [
    "UCB_clean"
   ]
  },
  {
   "cell_type": "code",
   "execution_count": 12,
   "metadata": {
    "collapsed": false
   },
   "outputs": [
    {
     "data": {
      "text/plain": [
       "[]"
      ]
     },
     "execution_count": 12,
     "metadata": {},
     "output_type": "execute_result"
    }
   ],
   "source": [
    "acronym_extract.extract_acronym(UCB_Text[8])"
   ]
  },
  {
   "cell_type": "code",
   "execution_count": 15,
   "metadata": {
    "collapsed": false
   },
   "outputs": [
    {
     "data": {
      "text/plain": [
       "[['ARWU', 'Academic Ranking of World Universities', ''],\n",
       " ['ARRA', 'American Reinvestment and Recovery Act', 'considered'],\n",
       " ['ASUC', 'Associated Students of the University of California', 'into'],\n",
       " ['SUPERB',\n",
       "  'Student Union Program, Entertainment, and Recreation Board',\n",
       "  'to'],\n",
       " ['RHA', 'Residence Hall Assembly', 'are']]"
      ]
     },
     "execution_count": 15,
     "metadata": {},
     "output_type": "execute_result"
    }
   ],
   "source": [
    "acronym_extract.extract_acronym(temptext)"
   ]
  },
  {
   "cell_type": "code",
   "execution_count": null,
   "metadata": {
    "collapsed": true
   },
   "outputs": [],
   "source": []
  }
 ],
 "metadata": {
  "kernelspec": {
   "display_name": "Python 2",
   "language": "python",
   "name": "python2"
  },
  "language_info": {
   "codemirror_mode": {
    "name": "ipython",
    "version": 2
   },
   "file_extension": ".py",
   "mimetype": "text/x-python",
   "name": "python",
   "nbconvert_exporter": "python",
   "pygments_lexer": "ipython2",
   "version": "2.7.10"
  }
 },
 "nbformat": 4,
 "nbformat_minor": 0
}
