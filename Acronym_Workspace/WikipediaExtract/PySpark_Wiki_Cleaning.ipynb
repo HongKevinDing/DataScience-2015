{
 "cells": [
  {
   "cell_type": "code",
   "execution_count": 201,
   "metadata": {
    "collapsed": false
   },
   "outputs": [],
   "source": [
    "import sys\n",
    "\n",
    "# ***** change path below as necessary *****\n",
    "sys.path.append(\"/Users/herman/Documents/CDIPS-DSW-2015/DataScience-2015_self/\")\n",
    "\n",
    "import acronym_extract\n",
    "import dewiki, re"
   ]
  },
  {
   "cell_type": "code",
   "execution_count": 2,
   "metadata": {
    "collapsed": false
   },
   "outputs": [],
   "source": [
    "import pyspark\n",
    "from pyspark.sql import SQLContext\n",
    "sqlCtx = SQLContext(sc)"
   ]
  },
  {
   "cell_type": "code",
   "execution_count": 3,
   "metadata": {
    "collapsed": true
   },
   "outputs": [],
   "source": [
    "from pyspark.sql import Row"
   ]
  },
  {
   "cell_type": "code",
   "execution_count": 4,
   "metadata": {
    "collapsed": false
   },
   "outputs": [],
   "source": [
    "wikiData = sqlCtx.read.parquet(\"./wiki_parquet\")"
   ]
  },
  {
   "cell_type": "code",
   "execution_count": 5,
   "metadata": {
    "collapsed": false
   },
   "outputs": [
    {
     "name": "stdout",
     "output_type": "stream",
     "text": [
      "root\n",
      " |-- id: integer (nullable = true)\n",
      " |-- title: binary (nullable = true)\n",
      " |-- modified: long (nullable = true)\n",
      " |-- text: binary (nullable = true)\n",
      " |-- username: binary (nullable = true)\n",
      "\n"
     ]
    }
   ],
   "source": [
    "wikiData.printSchema()"
   ]
  },
  {
   "cell_type": "code",
   "execution_count": 6,
   "metadata": {
    "collapsed": false
   },
   "outputs": [
    {
     "data": {
      "text/plain": [
       "39365"
      ]
     },
     "execution_count": 6,
     "metadata": {},
     "output_type": "execute_result"
    }
   ],
   "source": [
    "wikiData.count()"
   ]
  },
  {
   "cell_type": "code",
   "execution_count": 7,
   "metadata": {
    "collapsed": false
   },
   "outputs": [],
   "source": [
    "wikiData.registerTempTable(\"wikiData\")"
   ]
  },
  {
   "cell_type": "code",
   "execution_count": 8,
   "metadata": {
    "collapsed": false
   },
   "outputs": [],
   "source": [
    "resultUCB = sqlCtx.sql(\"SELECT * FROM wikiData WHERE title LIKE '%University of California, Berkeley%'\")"
   ]
  },
  {
   "cell_type": "code",
   "execution_count": 23,
   "metadata": {
    "collapsed": false
   },
   "outputs": [],
   "source": [
    "UCB_Text = resultUCB.map(lambda p: str(p.text)).collect()"
   ]
  },
  {
   "cell_type": "code",
   "execution_count": 10,
   "metadata": {
    "collapsed": false
   },
   "outputs": [],
   "source": [
    "UCB_Title = resultUCB.map(lambda p: str(p.title)).collect()"
   ]
  },
  {
   "cell_type": "code",
   "execution_count": 215,
   "metadata": {
    "collapsed": false
   },
   "outputs": [],
   "source": [
    "UCB = UCB_Text[8]"
   ]
  },
  {
   "cell_type": "code",
   "execution_count": 220,
   "metadata": {
    "collapsed": false
   },
   "outputs": [
    {
     "data": {
      "text/plain": [
       "'{{infobox University|name = University of California, Berkeley School of Public Health|image_size = 223|image_name =[[Image:UCBerkeley SPH Logo.jpeg|250px]]|established = 1943 <ref name=\"School of Public Health History\">{{cite web|title=School of Public Health History|url=http://sunsite.berkeley.edu/~ucalhist/general_history/campuses/ucb/colleges.html#public_health|publisher=UC Berkeley|accessdate=April 21, 2012}}</ref>|type = [[Public university|Public]]|dean = Stefano Bertozzi, MD, PhD|faculty =|students = 410 <ref name=\"UC Berkeley\">{{cite web|title=School of Public Health, University of California, Berkeley|url=http://sph.berkeley.edu/students/pdf/Announcement11-12.pdf|publisher=UC Berkeley|accessdate=April 21, 2012}}</ref>|city = [[Berkeley, California|Berkeley]]|state = [[California]]|country = {{USA}}|website = http://www.sph.berkeley.edu|logo           }}The \\'\\'\\'University of California, Berkeley School of Public Health,\\'\\'\\' commonly called the \\'\\'\\'Berkeley School of Public Health'"
      ]
     },
     "execution_count": 220,
     "metadata": {},
     "output_type": "execute_result"
    }
   ],
   "source": [
    "UCB[:1000]"
   ]
  },
  {
   "cell_type": "code",
   "execution_count": 216,
   "metadata": {
    "collapsed": false
   },
   "outputs": [],
   "source": [
    "# FUNCTIONS FOR CLEANING WIKI MARKUP\n",
    "\n",
    "def get_reducer_ranges(braces_list_signed, braces_list_positions, length_of_braces):\n",
    "    marker = 0\n",
    "    excise_list = np.zeros([1,2], dtype='i4')\n",
    "    temp_touple = np.array([0,0])\n",
    "    if (len(braces_list_signed) != len(braces_list_positions)):\n",
    "        print \"Lists of Unequal Lengths. Return Empty!\"\n",
    "        return\n",
    "    for i in range(0, len(braces_list_signed)):\n",
    "        if(marker == 0):\n",
    "            temp_touple[0] = braces_list_positions[i]\n",
    "        marker += braces_list_signed[i]\n",
    "        if(marker == 0):\n",
    "            temp_touple[1] = braces_list_positions[i] + length_of_braces\n",
    "            excise_list = np.append(excise_list, [temp_touple], axis=0)\n",
    "    if (marker != 0):\n",
    "        print \"Marker did not get back to zero indicating unpaired brackets!\"\n",
    "        return\n",
    "    return excise_list\n",
    "\n",
    "def apply_excise_list_to_text(excise_list,oldstring):\n",
    "    newstring = ''\n",
    "    for i in range(0,len(excise_list)-1):\n",
    "        newstring += oldstring[excise_list[i,1]:excise_list[i+1,0]]\n",
    "    newstring += oldstring[excise_list[len(excise_list)-1,1]:]\n",
    "    return newstring\n",
    "\n",
    "def cleanWikiMarkup(text):\n",
    "    \n",
    "    '''Part 1: Clean all markup except for {{}}'''\n",
    "    \n",
    "    RE_BRACKETS = re.compile(r'{{(?:.(?!{{|}}).)*}}')#  {{}} and everything inside as long as there are no nested {{}}\n",
    "    RE = re.compile(r'''\\[{2}(File|Category):.+?\\]{2}|        #  [[File: ]]\n",
    "                                    [\\s\\w#()]+?\\||            #  \n",
    "                                    (\\[{2}|\\]{2})|            #  [[ or ]]\n",
    "                                    \\'{2,5}|                  #  two to five occurences of '\n",
    "                                    (<s>|<!--).+?(</s>|-->)|  #  comments\n",
    "                                    ={1,6}|                   #  one to six occurences of =\n",
    "                                    \\<ref.+?(\\/>|\\<\\/ref\\>)|  #  <ref /> and <ref></ref> tags\n",
    "                                    \\<.+?\\>                   #  any tags\n",
    "                                    ''',   \n",
    "                                    re.X)\n",
    "    text = re.sub(RE, ' ', text)\n",
    "    text = re.sub('\\s+', ' ', text)\n",
    "    text = re.sub('\\( ', '(', text)\n",
    "    text = re.sub(' \\)', ')', text)\n",
    "    text = re.sub('\\|', '| ', text) \n",
    "    text = re.sub(' \\.', '.', text)\n",
    "    \n",
    "    '''Part 2: Clean {{}}'''\n",
    "    \n",
    "    braces_list_signed = re.findall('{{|}}', text)\n",
    "    braces_list_signed = [+1 if brace == '{{' else -1 for brace in braces_list_signed]\n",
    "    braces_list_positions = [m.start(0) for m in re.finditer('{{|}}', text)]\n",
    "    excise_list = get_reducer_ranges(braces_list_signed, braces_list_positions, 2)\n",
    "    text = apply_excise_list_to_text(excise_list, text)\n",
    "    \n",
    "    return text\n"
   ]
  },
  {
   "cell_type": "code",
   "execution_count": 217,
   "metadata": {
    "collapsed": false
   },
   "outputs": [],
   "source": [
    "UCB_clean = cleanWikiMarkup(UCB)"
   ]
  },
  {
   "cell_type": "code",
   "execution_count": 218,
   "metadata": {
    "collapsed": false
   },
   "outputs": [
    {
     "data": {
      "text/plain": [
       "\"The University of California, Berkeley School of Public Health, commonly called the Berkeley School of Public Health or UC Berkeley School of Public Health, is one of 14 schools and colleges at the University of California, Berkeley . The School of Public Health is consistently rated among the best in the nation, with recent rankings placing its doctoral programs in Epidemiology and Environmental Health Sciences 1st, its doctoral program in Health Policy 2nd, and its Master of Public Health program 8th in their respective categories. Established in 1943, it was the first school of public health west of the Mississippi River . The school is currently accredited by the Council on Education for Public Health . History The School of Public Health has its origins in the Department of Hygiene, which pioneered much of California's start of the 20th century public health endeavors. It was Karl F. Meyer , however, whose compelling 1930s Public Health curriculum demonstrated a pressing need for a school devoted to the study and practice of public health. Local professional leaders, including Lawrence Arnstein, Ford Rigby, and William Sheppard, used the momentum set in motion by this curriculum to successfully appeal the California State Legislature to create such a school. The result was AB515, signed into law by Governor Earl Warren in 1943, which appropriated funds for a school of public health at the University of California . Shortly thereafter, in 1944, the UC Berkeley School of Public Health held its first commencement. It was accredited by the American Public Health Association two years later, becoming the only accredited school of public health west of the Mississippi River. In 1955, the school was relocated to be closer to the state health department; Earl Warren Hall was dedicated by Clark Kerr as the new home of the School of Public Health. The baccalaureate degree program continued, but the school began to devote much of its resources to graduate training. At this point, graduate enrollment hovered near 100 students. It soon trebled to 335 students in the mid-1960s, with an annual conferment of around 150 degrees. Key laboratories in the School of Public Health during the middle of the century were the Naval Biological Laboratory, which focused primarily on aerobiology and related microbial research, and the Sanitary Engineering Research Laboratory which, maintained with the UC Berkeley College of Engineering , pioneered inquiry in the Environmental Health Sciences . The school also played a direct role in community health for years, working with the unified school district, Visiting Nurse Association, and city to provide health services to the Berkeley community through the Berkeley Unified Health Plan. Academics Degrees Awarded Once enrolled at the School of Public Health, students may seek education in one of nine concentrations: Biostatistics, Environmental Health Sciences, Epidemiology, Health & Social Behavior, Health Policy & Management, Health Services & Policy Analysis, Infections Diseases & Vaccinology, Maternal & Child Health, and Public Health Nutrition. In 2011, the school enrolled 410 students and graduated 207. Among those graduated, 160 received a Master of Public Health (MPH), 8 received a Master of Arts (MA), and 5 received a Master of Science (MS). The university also awarded 26 MPH degrees to joint candidates, including 14 Master of Business Administration (MBA) students, 2 Master of City Planning (MCP) students, 5 Master of Public Policy (MPP) students, 4 Master of Social Work (MSW) students, and 1 Master of City and Regional Planning (MCRP) student. Berkeley also offers a joint MD / MPH with the Stanford University School of Medicine . Mission The mission of the Berkeley School of Public Health is four-fold: * To conduct world class, rigorous research.* To apply knowledge to prevent disease and injury and promote the health of individuals and communities in California, the United States and the World.* To develop diverse leaders for professional and research careers through undergraduate, masters and doctoral programs* To enhance the knowledge and skills of the public health workforce through continuing education and technical assistance. Core Values The Berkeley School of Public Health believes that it is distinguished by its interdisciplinary and transdisciplinary approach within the world's premier public research university system; rigorous and innovative research techniques in the causes, consequences, and solutions of public health problems; an emphasis on diversity, human rights, and social justice; a concern for those disproportionately affected by public health issues; a diverse locality with substantial populations of ethnic and social miniorities, which provides important opportunities and challenges for education and research; its association with California's strong, community-oriented departments and agencies of public health; a commitment to improving the most essential public health services; an approach to public health that optimizes fitness at every stage of life; and a broad perspective that emphasizes the interaction of biological, behavioral, and environmental determinants of human health. These features are embodied in the Berkeley Difference : * A broad-based ecological perspective on health* An interdisciplinary, campus-wide resource base* An emphasis on applying new and emerging research* A sensitivity to multicultural issues informed by social justice and the protection of human rights. Rankings The most recent (2010) National Research Council Rankings , widely considered the authority on ranking US doctoral programs, identified UC Berkeley as the university with the highest number of programs in the top-five in their field, the highest number of programs in the top-ten in their field, and the second-highest number of programs rated as the best in their field. Specifically, Berkeley received four top rankings in the field of Public Health: #1 for Epidemiology , #6 for Environmental Health Sciences (1st among all Environmental Health Science programs), #6 for Health Services and Policy Analysis (2nd among Health Policy programs); and #35 for Biostatistics (tied for 13th among all Biostatistics programs). US News and World Report ranks UC Berkeley's Master of Public Health program 8th in the nation. Graduate programs administered through or in affiliation with the School of Public Health also receive high marks from US News, with Environmental Health (College of Engineering) ranked 1st, Health Policy and Management (Goldman School of Public Policy) ranked 3rd, and Biostatistics ranked 17th. Notable alumni * Gordon Belcourt , former Executive Director of the Montana-Wyoming Tribal Leaders Council, named a Public Health Hero by the Berkeley School of Public Health in 2003. * Susan Desmond-Hellmann , Chancellor of the University of California, San Francisco (UCSF) and incoming chief executive officer of the Bill & Melinda Gates Foundation . * Julie Louise Gerberding, director of the Centers for Disease Control and Prevention (CDC) * Barbara Staggers, founder of the Chappell Hayes Health Center at McClymonds Educational Complex * Carl Lester, director of the Alameda Health Care Services Agency, one of the largest public health agencies in California * Sandra Shewry, director of California's State Department of Health Services * Kenneth P. Moritsugu , US Surgeon General under George W. Bush in 2002 and from 2006-2007* Sir Michael Marmot , pioneer in research on health inequalities and Professor of Epidemiology and Public Health at University College London * Kirk R. Smith , leading expert on the health and climate effects of indoor air pollution in developing countries, 2012 Tyler Laureate, contributor to the 2007 Nobel Peace Prize , member of the National Academy of Sciences See also * Public Health * UC Berkeley-UCSF Joint Medical Program * Health Initiative of the Americas References  External links *  \""
      ]
     },
     "execution_count": 218,
     "metadata": {},
     "output_type": "execute_result"
    }
   ],
   "source": [
    "UCB_clean"
   ]
  },
  {
   "cell_type": "code",
   "execution_count": 219,
   "metadata": {
    "collapsed": false
   },
   "outputs": [
    {
     "data": {
      "text/plain": [
       "[['MBA', 'Master of Business Administration', 'The'],\n",
       " ['MCP', 'Master of City Planning', 'The'],\n",
       " ['MPP', 'Master of Public Policy', 'The'],\n",
       " ['MSW', 'Master of Social Work', 'The'],\n",
       " ['MCRP', 'Master of City and Regional Planning', 'The'],\n",
       " ['UCSF', 'University of California, San Francisco', 'rankings']]"
      ]
     },
     "execution_count": 219,
     "metadata": {},
     "output_type": "execute_result"
    }
   ],
   "source": [
    "acronym_extract.extract_acronym(UCB_clean)"
   ]
  },
  {
   "cell_type": "code",
   "execution_count": null,
   "metadata": {
    "collapsed": true
   },
   "outputs": [],
   "source": []
  }
 ],
 "metadata": {
  "kernelspec": {
   "display_name": "Python 2",
   "language": "python",
   "name": "python2"
  },
  "language_info": {
   "codemirror_mode": {
    "name": "ipython",
    "version": 2
   },
   "file_extension": ".py",
   "mimetype": "text/x-python",
   "name": "python",
   "nbconvert_exporter": "python",
   "pygments_lexer": "ipython2",
   "version": "2.7.10"
  }
 },
 "nbformat": 4,
 "nbformat_minor": 0
}
